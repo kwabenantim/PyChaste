{
 "cells": [
  {
   "cell_type": "markdown",
   "id": "55fe99de",
   "metadata": {},
   "source": [
    "This tutorial is automatically generated from the file /home/kwabena/repo/PyChaste/test/python/cell_based/tutorials/TestImmersedBoundaryTutorial.py.\n",
    "\n"
   ]
  },
  {
   "cell_type": "code",
   "execution_count": null,
   "id": "50298239",
   "metadata": {},
   "outputs": [],
   "source": [
    "# Jupyter notebook specific imports \n",
    "import matplotlib as mpl \n",
    "from IPython import display \n",
    "%matplotlib inline"
   ]
  },
  {
   "cell_type": "markdown",
   "id": "7a4de7c6",
   "metadata": {},
   "source": [
    "\n",
    "## Introduction\n",
    "This tutorial is a demonstration of the immersed boundary method, a technique\n",
    "for simulating fluid-structure interactions. We can use the immersed boundary\n",
    "method to simulate a cell as a structure with its outer **boundary immersed**\n",
    "in a fluid. There is a two-way coupling between the fluid and the structure:\n",
    "the flow of the fluid exerts a force on the structure, and the structure\n",
    "influences the flow of the fluid.\n",
    "\n",
    "In this tutorial, we demonstrate:\n",
    "1. Building single-cell immersed boundary capable simulations.\n",
    "2. Building multi-cellular immersed boundary simulations.\n",
    "3. Adding and manipulating immersed boundary fluid sources.\n",
    "\n",
    "## Imports\n",
    "\n"
   ]
  },
  {
   "cell_type": "code",
   "execution_count": null,
   "id": "3a9b150c",
   "metadata": {},
   "outputs": [],
   "source": [
    "import chaste\n",
    "chaste.init()  # setup MPI\n",
    "from chaste.cell_based import (\n",
    "    AbstractCellBasedTestSuite,\n",
    "    CellsGeneratorUniformCellCycleModel_2,\n",
    "    DifferentiatedCellProliferativeType,\n",
    "    ForwardEulerNumericalMethod2_2,\n",
    "    ImmersedBoundaryCellPopulation2,\n",
    "    ImmersedBoundaryLinearInteractionForce2,\n",
    "    ImmersedBoundaryLinearMembraneForce2,\n",
    "    ImmersedBoundarySimulationModifier2,\n",
    "    OffLatticeSimulation2_2,\n",
    "    SetupNotebookTest,\n",
    "    SimulationTime,\n",
    "    TearDownNotebookTest,\n",
    ")\n",
    "from chaste.mesh import FluidSource2, ImmersedBoundaryPalisadeMeshGenerator\n",
    "from chaste.visualization import (\n",
    "    JupyterNotebookManager,\n",
    "    JupyterSceneModifier2,\n",
    "    VtkScene2\n",
    ")"
   ]
  },
  {
   "cell_type": "markdown",
   "id": "8557c948",
   "metadata": {},
   "source": [
    "### 1. Simple Immersed Boundary Simulations\n",
    "We begin by exploring simulations containing a single cell. This will\n",
    "familiarise you with how to generate immersed boundary cells, the steps\n",
    "involved in setting up an immersed boundary simulation, and the options\n",
    "available for controlling how the cells are generated and behave.\n",
    "\n",
    "Immersed boundary simulations operate over a square domain, with `x` and `y`\n",
    "coordinates lying in the range `0` to `1`. The domain wraps on both axes -\n",
    "this means that if a cell moves off the right hand edge of the domain,\n",
    "the segment will appear on the left hand side. This is not purely visual;\n",
    "forces are also transmitted across these boundaries.\n",
    "\n",
    " **Tip** Make sure all your coordinates are between `0` and `1`.\n",
    "\n"
   ]
  },
  {
   "cell_type": "markdown",
   "id": "30090843",
   "metadata": {},
   "source": [
    "Setup the simulation environment in the notebook\n",
    "\n"
   ]
  },
  {
   "cell_type": "code",
   "execution_count": null,
   "id": "e0cd9dcd",
   "metadata": {},
   "outputs": [],
   "source": [
    "SetupNotebookTest()"
   ]
  },
  {
   "cell_type": "markdown",
   "id": "03f07a48",
   "metadata": {},
   "source": [
    "Set the start time for the simulation\n",
    "\n"
   ]
  },
  {
   "cell_type": "code",
   "execution_count": null,
   "id": "97319c25",
   "metadata": {},
   "outputs": [],
   "source": [
    "SimulationTime.Instance().SetStartTime(0.0)"
   ]
  },
  {
   "cell_type": "markdown",
   "id": "1b33416d",
   "metadata": {},
   "source": [
    "Next, we define the necessary geometry by generating a mesh to\n",
    "contain a single cell.\n",
    "\n"
   ]
  },
  {
   "cell_type": "code",
   "execution_count": null,
   "id": "49179217",
   "metadata": {},
   "outputs": [],
   "source": [
    "gen = ImmersedBoundaryPalisadeMeshGenerator(1, 128, 0.1, 2.0, 0.0, False)\n",
    "mesh = gen.GetMesh()"
   ]
  },
  {
   "cell_type": "markdown",
   "id": "a1d5f481",
   "metadata": {},
   "source": [
    "The first line of code defines an `ImmersedBoundaryPalisadeMeshGenerator`\n",
    "called `gen`. The 3rd parameter controls the exponent of the superellipse(`0.1`)\n",
    "and the 4th parameter controls the aspect ratio of the cell(`2.0`). You can\n",
    "experiment with modifying these to change the initial shape of the cell.\n",
    "\n",
    "The second line of code instructs the mesh generator to generate a mesh.\n",
    "Checking the type of mesh with `type(mesh)` will show it as\n",
    "`ImmersedBoundaryMesh2_2`. The `2_2` suffix denotes that we are using\n",
    "a 2-dimensional space, and 2-dimensional elements to define the mesh.\n",
    "\n",
    "We now set the fluid grid resolution. The following code specifies\n",
    "that we are using a 64x64 grid to simulate our fluid over.\n",
    "\n"
   ]
  },
  {
   "cell_type": "code",
   "execution_count": null,
   "id": "844ec9b1",
   "metadata": {},
   "outputs": [],
   "source": [
    "mesh.SetNumGridPtsXAndY(64)"
   ]
  },
  {
   "cell_type": "markdown",
   "id": "add300c3",
   "metadata": {},
   "source": [
    "Next, we generate the cells. We specify a cell type and cell cycle model.\n",
    "These can be changed to modify the life cycle of the cells. The\n",
    "cell generator then constructs the necessary information for each\n",
    "of the elements in the mesh.\n",
    "\n"
   ]
  },
  {
   "cell_type": "code",
   "execution_count": null,
   "id": "a5019e1b",
   "metadata": {},
   "outputs": [],
   "source": [
    "cell_type = DifferentiatedCellProliferativeType()\n",
    "cell_generator = CellsGeneratorUniformCellCycleModel_2()\n",
    "cells = cell_generator.GenerateBasicRandom(mesh.GetNumElements(), cell_type)"
   ]
  },
  {
   "cell_type": "markdown",
   "id": "be6c6d9d",
   "metadata": {},
   "source": [
    "Finally, we construct the cell population. We then specify whether the\n",
    "population has active fluid sources or not. For now, we are not\n",
    "using any fluid sources, so we set this to `False`\n",
    "\n"
   ]
  },
  {
   "cell_type": "code",
   "execution_count": null,
   "id": "3d83d1ba",
   "metadata": {},
   "outputs": [],
   "source": [
    "cell_population = ImmersedBoundaryCellPopulation2(mesh, cells)\n",
    "cell_population.SetIfPopulationHasActiveSources(False)"
   ]
  },
  {
   "cell_type": "markdown",
   "id": "e395f842",
   "metadata": {},
   "source": [
    "We can make a quick visualization of the cell population\n",
    "\n"
   ]
  },
  {
   "cell_type": "code",
   "execution_count": null,
   "id": "437d6946",
   "metadata": {},
   "outputs": [],
   "source": [
    "scene = VtkScene2()\n",
    "scene.SetCellPopulation(cell_population)\n",
    "nb_manager = JupyterNotebookManager()\n",
    "nb_manager.vtk_show(scene, height=300)"
   ]
  },
  {
   "cell_type": "markdown",
   "id": "33a529b8",
   "metadata": {},
   "source": [
    "Next, we create an `OffLatticeSimulation` simulator to control the\n",
    "simulation. Although the fluid is simulated on a lattice (grid),\n",
    "the nodes/cells are not bound to a lattice.\n",
    "\n"
   ]
  },
  {
   "cell_type": "code",
   "execution_count": null,
   "id": "fe5eddf0",
   "metadata": {},
   "outputs": [],
   "source": [
    "simulator = OffLatticeSimulation2_2(cell_population)\n",
    "simulator.SetNumericalMethod(ForwardEulerNumericalMethod2_2())\n",
    "simulator.GetNumericalMethod().SetUseUpdateNodeLocation(True)"
   ]
  },
  {
   "cell_type": "markdown",
   "id": "1cdf753d",
   "metadata": {},
   "source": [
    "As we have an off-lattice simulation, we need a way to model the\n",
    "fluid. This is handled by the `ImmersedBoundarySimulationModifier`.\n",
    "Modifiers in Chaste are classes that can be attached to simulations\n",
    "to perform some additional custom functionality each timestep.\n",
    "In this case, the modifier is responsible for solving the\n",
    "Navier-Stokes equations and propagating forces between the nodes and\n",
    "the fluid.\n",
    "\n"
   ]
  },
  {
   "cell_type": "code",
   "execution_count": null,
   "id": "32f1c59c",
   "metadata": {},
   "outputs": [],
   "source": [
    "ib_modifier = ImmersedBoundarySimulationModifier2()\n",
    "simulator.AddSimulationModifier(ib_modifier)"
   ]
  },
  {
   "cell_type": "markdown",
   "id": "0f8cf6b1",
   "metadata": {},
   "source": [
    "We must also provide the modifier with a force model to govern\n",
    "interactions between the nodes forming the cell membrane.\n",
    "Note that these forces only act between nodes in the same cell;\n",
    "they do not control interactions between cells.\n",
    "\n"
   ]
  },
  {
   "cell_type": "code",
   "execution_count": null,
   "id": "dca89d9c",
   "metadata": {},
   "outputs": [],
   "source": [
    "membrane_force = ImmersedBoundaryLinearMembraneForce2()\n",
    "membrane_force.SetElementSpringConst(1.0 * 1e7)\n",
    "ib_modifier.AddImmersedBoundaryForce(membrane_force)"
   ]
  },
  {
   "cell_type": "markdown",
   "id": "e9b94479",
   "metadata": {},
   "source": [
    "The `ImmersedBoundaryLinearMembraneForce` models forces between\n",
    "membrane nodes using linear springs i.e, the force applied is\n",
    "proportional to the deviation of the distance between nodes\n",
    "from a rest length. The spring constant(`1.0 * 1e7`) defines how\n",
    "stiff the cell boundary is.\n",
    "\n",
    " **Practice** Experiment with adjusting the spring constant to\n",
    " change the force behaviour between nodes of the cell boundary.\n",
    " \n",
    "Next, we set the simulation properties\n",
    "\n"
   ]
  },
  {
   "cell_type": "code",
   "execution_count": null,
   "id": "137c8067",
   "metadata": {},
   "outputs": [],
   "source": [
    "dt = 0.05\n",
    "simulator.SetOutputDirectory(\"Python/TestImmersedBoundary_1\")\n",
    "simulator.SetDt(dt)\n",
    "simulator.SetSamplingTimestepMultiple(4)\n",
    "simulator.SetEndTime(1000 * dt)"
   ]
  },
  {
   "cell_type": "markdown",
   "id": "c0472257",
   "metadata": {},
   "source": [
    "We can add a modifier to visualize the cell population while the\n",
    "simulation is in progress\n",
    "\n"
   ]
  },
  {
   "cell_type": "code",
   "execution_count": null,
   "id": "f5de7e3d",
   "metadata": {},
   "outputs": [],
   "source": [
    "scene_modifier = JupyterSceneModifier2(nb_manager)\n",
    "scene_modifier.SetVtkScene(scene)\n",
    "scene_modifier.SetUpdateFrequency(1000)\n",
    "simulator.AddSimulationModifier(scene_modifier)"
   ]
  },
  {
   "cell_type": "markdown",
   "id": "6f7f84f5",
   "metadata": {},
   "source": [
    "Finally, to run the simulation we call the `Solve()` method.\n",
    "\n"
   ]
  },
  {
   "cell_type": "code",
   "execution_count": null,
   "id": "25679f36",
   "metadata": {},
   "outputs": [],
   "source": [
    "simulator.Solve()"
   ]
  },
  {
   "cell_type": "markdown",
   "id": "db47e34e",
   "metadata": {},
   "source": [
    "Reset the simulation environment in the notebook\n",
    "\n"
   ]
  },
  {
   "cell_type": "code",
   "execution_count": null,
   "id": "16483d5f",
   "metadata": {},
   "outputs": [],
   "source": [
    "TearDownNotebookTest()"
   ]
  },
  {
   "cell_type": "markdown",
   "id": "59e72e4b",
   "metadata": {},
   "source": [
    "### 2. Adding More Cells\n",
    "\n"
   ]
  },
  {
   "cell_type": "markdown",
   "id": "936209fc",
   "metadata": {},
   "source": [
    "#### Multiple Cells\n",
    "\n",
    "Setup the simulation environment in the notebook\n",
    "\n"
   ]
  },
  {
   "cell_type": "code",
   "execution_count": null,
   "id": "497b08e0",
   "metadata": {},
   "outputs": [],
   "source": [
    "SetupNotebookTest()"
   ]
  },
  {
   "cell_type": "markdown",
   "id": "70219074",
   "metadata": {},
   "source": [
    "Set the start time for the simulation\n",
    "\n"
   ]
  },
  {
   "cell_type": "code",
   "execution_count": null,
   "id": "ad7a725d",
   "metadata": {},
   "outputs": [],
   "source": [
    "SimulationTime.Instance().SetStartTime(0.0)"
   ]
  },
  {
   "cell_type": "markdown",
   "id": "6eab105a",
   "metadata": {},
   "source": [
    "We can use the mesh generator to generate multiple cells. The first\n",
    "parameter of the mesh generator constructor controls the number of\n",
    "cells.\n",
    "\n",
    " **Practice** Try increasing the number of cells by adjusting the\n",
    " parameter value. A sensible range for this tutorial is 4-10 cells.\n",
    "\n"
   ]
  },
  {
   "cell_type": "code",
   "execution_count": null,
   "id": "d6110f34",
   "metadata": {},
   "outputs": [],
   "source": [
    "gen = ImmersedBoundaryPalisadeMeshGenerator(5, 128, 0.1, 2.0, 0.0, False)"
   ]
  },
  {
   "cell_type": "markdown",
   "id": "4df5639f",
   "metadata": {},
   "source": [
    "#### Laminas\n",
    "In addition to the cells we have seen so far, we can introduce\n",
    "laminas to the simulation. Laminas are surfaces with reduced\n",
    "dimensionality. For 3D elements, a lamina is a 2D surface. For the\n",
    "2D elements we are currently working with, laminas are lines.\n",
    "Changing the last parameter of the mesh generator constructor from `False`\n",
    "to `True` will generate a basal lamina spanning the palisade cells.\n",
    "Laminas can also interact with the fluid field, and can be made\n",
    "\"leaky\" to allow some flow across their boundary. This can be used\n",
    "to model a permeable boundary.\n",
    "\n",
    " **Practice** Try changing the 6th constructor parameter to create a lamina.\n",
    " \n",
    "#### Cell Variations\n",
    "Apart from using the 3rd and 4th constructor parameters to modify\n",
    "the cell shapes, we can also introduce variation between cells by\n",
    "modifying the 5th parameter.\n",
    "\n",
    " **Practice** Try adjusting the 3rd and 4th constructor parameters to\n",
    " introduce cell variations.\n",
    " \n",
    "Next, we generate the mesh and set the fluid grid resolution\n",
    "\n"
   ]
  },
  {
   "cell_type": "code",
   "execution_count": null,
   "id": "a50c59d8",
   "metadata": {},
   "outputs": [],
   "source": [
    "mesh = gen.GetMesh()\n",
    "mesh.SetNumGridPtsXAndY(64)"
   ]
  },
  {
   "cell_type": "markdown",
   "id": "bdaf78ca",
   "metadata": {},
   "source": [
    "Below, we generate the cells\n",
    "\n"
   ]
  },
  {
   "cell_type": "code",
   "execution_count": null,
   "id": "449bd44f",
   "metadata": {},
   "outputs": [],
   "source": [
    "cell_type = DifferentiatedCellProliferativeType()\n",
    "cell_generator = CellsGeneratorUniformCellCycleModel_2()\n",
    "cells = cell_generator.GenerateBasicRandom(mesh.GetNumElements(), cell_type)"
   ]
  },
  {
   "cell_type": "markdown",
   "id": "8846c4d6",
   "metadata": {},
   "source": [
    "Then we set up the cell population with no active fluid sources\n",
    "\n"
   ]
  },
  {
   "cell_type": "code",
   "execution_count": null,
   "id": "535ac16a",
   "metadata": {},
   "outputs": [],
   "source": [
    "cell_population = ImmersedBoundaryCellPopulation2(mesh, cells)\n",
    "cell_population.SetIfPopulationHasActiveSources(False)"
   ]
  },
  {
   "cell_type": "markdown",
   "id": "cffc290b",
   "metadata": {},
   "source": [
    "We can visualize the cell population below\n",
    "\n"
   ]
  },
  {
   "cell_type": "code",
   "execution_count": null,
   "id": "94012f4a",
   "metadata": {},
   "outputs": [],
   "source": [
    "scene = VtkScene2()\n",
    "scene.SetCellPopulation(cell_population)\n",
    "nb_manager = JupyterNotebookManager()\n",
    "nb_manager.vtk_show(scene, height=300)"
   ]
  },
  {
   "cell_type": "markdown",
   "id": "880ed9aa",
   "metadata": {},
   "source": [
    "Now we create a simulator to manage the simulation\n",
    "\n"
   ]
  },
  {
   "cell_type": "code",
   "execution_count": null,
   "id": "24284940",
   "metadata": {},
   "outputs": [],
   "source": [
    "simulator = OffLatticeSimulation2_2(cell_population)\n",
    "simulator.SetNumericalMethod(ForwardEulerNumericalMethod2_2())\n",
    "simulator.GetNumericalMethod().SetUseUpdateNodeLocation(True)"
   ]
  },
  {
   "cell_type": "markdown",
   "id": "11497a9f",
   "metadata": {},
   "source": [
    "We add an immersed boundary simulation modifier to the simulator\n",
    "\n"
   ]
  },
  {
   "cell_type": "code",
   "execution_count": null,
   "id": "da1764c6",
   "metadata": {},
   "outputs": [],
   "source": [
    "ib_modifier = ImmersedBoundarySimulationModifier2()\n",
    "simulator.AddSimulationModifier(ib_modifier)"
   ]
  },
  {
   "cell_type": "markdown",
   "id": "46bffd78",
   "metadata": {},
   "source": [
    "We then add a force law to the simulation modifier to model the\n",
    "behaviour of the cell membrane\n",
    "\n"
   ]
  },
  {
   "cell_type": "code",
   "execution_count": null,
   "id": "f9cb8c89",
   "metadata": {},
   "outputs": [],
   "source": [
    "membrane_force = ImmersedBoundaryLinearMembraneForce2()\n",
    "membrane_force.SetElementSpringConst(1.0 * 1e7)\n",
    "ib_modifier.AddImmersedBoundaryForce(membrane_force)"
   ]
  },
  {
   "cell_type": "markdown",
   "id": "d8fcec8b",
   "metadata": {},
   "source": [
    "#### Inter-cellular Interactions\n",
    "So far, we have encountered forces that act to maintain the shape\n",
    "of the cell membrane. We can also introduce an inter-cellular\n",
    "force law using `ImmersedBoundaryLinearInteractionForce`.\n",
    "This has a `SetSpringConst` method instead of a `SetElementSpringConst`\n",
    "method. It also has a `SetRestLength` method that we can use to\n",
    "modify the rest length.\n",
    "\n"
   ]
  },
  {
   "cell_type": "code",
   "execution_count": null,
   "id": "345ea70f",
   "metadata": {},
   "outputs": [],
   "source": [
    "interaction_force = ImmersedBoundaryLinearInteractionForce2()\n",
    "interaction_force.SetSpringConst(1.0 * 1e6)\n",
    "ib_modifier.AddImmersedBoundaryForce(interaction_force)"
   ]
  },
  {
   "cell_type": "markdown",
   "id": "f4de7864",
   "metadata": {},
   "source": [
    "Next, we set the simulation properties\n",
    "\n"
   ]
  },
  {
   "cell_type": "code",
   "execution_count": null,
   "id": "72c428ab",
   "metadata": {},
   "outputs": [],
   "source": [
    "dt = 0.05\n",
    "simulator.SetOutputDirectory(\"Python/TestImmersedBoundary_2\")\n",
    "simulator.SetDt(dt)\n",
    "simulator.SetSamplingTimestepMultiple(4)\n",
    "simulator.SetEndTime(1000 * dt)"
   ]
  },
  {
   "cell_type": "markdown",
   "id": "97b5b658",
   "metadata": {},
   "source": [
    "Finally, we run the simulation\n",
    "\n"
   ]
  },
  {
   "cell_type": "code",
   "execution_count": null,
   "id": "a167204d",
   "metadata": {},
   "outputs": [],
   "source": [
    "simulator.Solve()"
   ]
  },
  {
   "cell_type": "markdown",
   "id": "dddbc94e",
   "metadata": {},
   "source": [
    "We can visualize the end state of the cell population\n",
    "\n"
   ]
  },
  {
   "cell_type": "code",
   "execution_count": null,
   "id": "a6de9ce9",
   "metadata": {},
   "outputs": [],
   "source": [
    "nb_manager.vtk_show(scene, height=300)"
   ]
  },
  {
   "cell_type": "markdown",
   "id": "a438961c",
   "metadata": {},
   "source": [
    "Reset the simulation environment in the notebook\n",
    "\n"
   ]
  },
  {
   "cell_type": "code",
   "execution_count": null,
   "id": "86e9b33c",
   "metadata": {},
   "outputs": [],
   "source": [
    "TearDownNotebookTest()"
   ]
  },
  {
   "cell_type": "markdown",
   "id": "2a5dc6f7",
   "metadata": {},
   "source": [
    "### 3. Adding Fluid Sources\n",
    "Now that we are familiar with how to generate the cells, we will\n",
    "introduce fluid sources.\n",
    "\n"
   ]
  },
  {
   "cell_type": "markdown",
   "id": "c08d4ce5",
   "metadata": {},
   "source": [
    "#### Adding a Fluid Source\n",
    "\n",
    "Setup the simulation environment in the notebook\n",
    "\n"
   ]
  },
  {
   "cell_type": "code",
   "execution_count": null,
   "id": "4c6e58ae",
   "metadata": {},
   "outputs": [],
   "source": [
    "SetupNotebookTest()"
   ]
  },
  {
   "cell_type": "markdown",
   "id": "45e59e32",
   "metadata": {},
   "source": [
    "Set the start time for the simulation\n",
    "\n"
   ]
  },
  {
   "cell_type": "code",
   "execution_count": null,
   "id": "ff59adf2",
   "metadata": {},
   "outputs": [],
   "source": [
    "SimulationTime.Instance().SetStartTime(0.0)"
   ]
  },
  {
   "cell_type": "markdown",
   "id": "f08a3267",
   "metadata": {},
   "source": [
    "We begin by constructing a fluid source object:\n",
    "\n"
   ]
  },
  {
   "cell_type": "code",
   "execution_count": null,
   "id": "15e927af",
   "metadata": {},
   "outputs": [],
   "source": [
    "source = FluidSource2(0, 0.5, 0.7)"
   ]
  },
  {
   "cell_type": "markdown",
   "id": "fc9652e0",
   "metadata": {},
   "source": [
    "This constructs a `FluidSource` object in 2 dimensions. The first\n",
    "parameter supplies the index of the fluid source. Each source we\n",
    "create must have a unique index. The next two parameters are the\n",
    "`x` and `y` coordinates of the source. Fluid sources in Chaste are\n",
    "point-like, that is to say they do not have any area/volume.\n",
    "\n",
    "Having created the fluid source, we set its strength:\n",
    "\n"
   ]
  },
  {
   "cell_type": "code",
   "execution_count": null,
   "id": "06cd35c3",
   "metadata": {},
   "outputs": [],
   "source": [
    "source.SetStrength(0.012)\n",
    "# Next, we create the mesh\n",
    "gen = ImmersedBoundaryPalisadeMeshGenerator(5, 128, 0.1, 2.0, 0.0, False)\n",
    "mesh = gen.GetMesh()\n",
    "mesh.SetNumGridPtsXAndY(64)"
   ]
  },
  {
   "cell_type": "markdown",
   "id": "fd8038c3",
   "metadata": {},
   "source": [
    "We must associate the source with an element in the simulation\n",
    "so that the simulation is aware of the source.\n",
    "\n"
   ]
  },
  {
   "cell_type": "code",
   "execution_count": null,
   "id": "bca93f1f",
   "metadata": {},
   "outputs": [],
   "source": [
    "mesh.GetElement(0).SetFluidSource(source)"
   ]
  },
  {
   "cell_type": "markdown",
   "id": "e19686b8",
   "metadata": {},
   "source": [
    "We now generate the cells\n",
    "\n"
   ]
  },
  {
   "cell_type": "code",
   "execution_count": null,
   "id": "5aab6e98",
   "metadata": {},
   "outputs": [],
   "source": [
    "cell_type = DifferentiatedCellProliferativeType()\n",
    "cell_generator = CellsGeneratorUniformCellCycleModel_2()\n",
    "cells = cell_generator.GenerateBasicRandom(mesh.GetNumElements(), cell_type)"
   ]
  },
  {
   "cell_type": "markdown",
   "id": "0f3a9b93",
   "metadata": {},
   "source": [
    "Then we set up the cell population\n",
    "cell_population = ImmersedBoundaryCellPopulation2(mesh, cells)\n",
    "\n",
    "Finally, we must tell the cell population that fluid sources are present.\n",
    "\n"
   ]
  },
  {
   "cell_type": "code",
   "execution_count": null,
   "id": "57cc7bcc",
   "metadata": {},
   "outputs": [],
   "source": [
    "cell_population.SetIfPopulationHasActiveSources(True)"
   ]
  },
  {
   "cell_type": "markdown",
   "id": "45ad91af",
   "metadata": {},
   "source": [
    "#### Varying the Source Location\n",
    " **Practice** You can experiment with the source location. Try moving it\n",
    " closer to and further away from the cells.\n",
    " \n",
    "#### Varying the Source Strength\n",
    " **Practice** Try modifying the source strength to see what impact this\n",
    " has on the cell shapes.\n",
    " \n",
    "Below, we visualize the cell population\n",
    "\n"
   ]
  },
  {
   "cell_type": "code",
   "execution_count": null,
   "id": "c840945e",
   "metadata": {},
   "outputs": [],
   "source": [
    "scene = VtkScene2()\n",
    "scene.SetCellPopulation(cell_population)\n",
    "nb_manager = JupyterNotebookManager()\n",
    "nb_manager.vtk_show(scene, height=300)"
   ]
  },
  {
   "cell_type": "markdown",
   "id": "67861494",
   "metadata": {},
   "source": [
    "Create a simulator to manage the simulation\n",
    "\n"
   ]
  },
  {
   "cell_type": "code",
   "execution_count": null,
   "id": "587db969",
   "metadata": {},
   "outputs": [],
   "source": [
    "simulator = OffLatticeSimulation2_2(cell_population)\n",
    "simulator.SetNumericalMethod(ForwardEulerNumericalMethod2_2())\n",
    "simulator.GetNumericalMethod().SetUseUpdateNodeLocation(True)"
   ]
  },
  {
   "cell_type": "markdown",
   "id": "338b22ef",
   "metadata": {},
   "source": [
    "Add an immersed boundary simulation modifier\n",
    "\n"
   ]
  },
  {
   "cell_type": "code",
   "execution_count": null,
   "id": "9563dc2e",
   "metadata": {},
   "outputs": [],
   "source": [
    "ib_modifier = ImmersedBoundarySimulationModifier2()\n",
    "simulator.AddSimulationModifier(ib_modifier)"
   ]
  },
  {
   "cell_type": "markdown",
   "id": "c28e28d4",
   "metadata": {},
   "source": [
    "#### Fluid-Cell Interaction\n",
    " **Practice** Try modifying the spring constant of the\n",
    " `ImmersedBoundaryLinearMembraneForce` to see how this changes the\n",
    " effect of the fluid source on the cells.\n",
    "\n"
   ]
  },
  {
   "cell_type": "code",
   "execution_count": null,
   "id": "054df66a",
   "metadata": {},
   "outputs": [],
   "source": [
    "membrane_force = ImmersedBoundaryLinearMembraneForce2()\n",
    "membrane_force.SetElementSpringConst(1.0 * 1e7)\n",
    "ib_modifier.AddImmersedBoundaryForce(membrane_force)"
   ]
  },
  {
   "cell_type": "markdown",
   "id": "26278c92",
   "metadata": {},
   "source": [
    "Add an inter-cellular force law\n",
    "\n"
   ]
  },
  {
   "cell_type": "code",
   "execution_count": null,
   "id": "43304dfb",
   "metadata": {},
   "outputs": [],
   "source": [
    "interaction_force = ImmersedBoundaryLinearInteractionForce2()\n",
    "interaction_force.SetSpringConst(1.0 * 1e6)\n",
    "ib_modifier.AddImmersedBoundaryForce(interaction_force)"
   ]
  },
  {
   "cell_type": "markdown",
   "id": "6218903e",
   "metadata": {},
   "source": [
    "#### Adding More Sources\n",
    " **Practice** Try adding a second fluid source. You will need to\n",
    " use a unique index, and attach it to a different element as\n",
    " each element can only manage a single fluid source.\n",
    " \n",
    "Set the simulation properties\n",
    "\n"
   ]
  },
  {
   "cell_type": "code",
   "execution_count": null,
   "id": "bb66c283",
   "metadata": {},
   "outputs": [],
   "source": [
    "dt = 0.05\n",
    "simulator.SetOutputDirectory(\"Python/TestImmersedBoundary_3\")\n",
    "simulator.SetDt(dt)\n",
    "simulator.SetSamplingTimestepMultiple(4)\n",
    "simulator.SetEndTime(1000 * dt)\n",
    "# Run the simulation\n",
    "simulator.Solve()\n",
    "# Visualize the end state\n",
    "nb_manager.vtk_show(scene, height=300)"
   ]
  },
  {
   "cell_type": "markdown",
   "id": "3b9fe252",
   "metadata": {},
   "source": [
    "Reset the simulation environment in the notebook\n",
    "\n"
   ]
  },
  {
   "cell_type": "code",
   "execution_count": null,
   "id": "efbf9530",
   "metadata": {},
   "outputs": [],
   "source": [
    "TearDownNotebookTest()"
   ]
  },
  {
   "cell_type": "markdown",
   "id": "109da48b",
   "metadata": {},
   "source": [
    "#### Further Exercises\n",
    " * Try integrating a different cell cycle model to introduce cell\n",
    " division. See how the presence of a fluid source impacts the\n",
    " structure that is formed.\n",
    " * Use one of the cell writers to collect some statistics\n",
    "\n"
   ]
  }
 ],
 "metadata": {},
 "nbformat": 4,
 "nbformat_minor": 5
}
